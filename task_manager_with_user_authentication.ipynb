{
 "cells": [
  {
   "cell_type": "code",
   "execution_count": 6,
   "id": "a4b90ae2-2a09-43e9-ba6f-6363b60fa516",
   "metadata": {},
   "outputs": [
    {
     "name": "stdout",
     "output_type": "stream",
     "text": [
      "\n",
      " Sign Up / Log In:\n",
      "1. Add User\n",
      "2. Login\n",
      "3. Log Out\n"
     ]
    },
    {
     "name": "stdin",
     "output_type": "stream",
     "text": [
      "Enter your choice:  1\n",
      "Enter your User Name:  SubratS\n",
      "Enter your Password:  Subr@123\n"
     ]
    },
    {
     "name": "stdout",
     "output_type": "stream",
     "text": [
      "User registered successfully.\n",
      "\n",
      " Sign Up / Log In:\n",
      "1. Add User\n",
      "2. Login\n",
      "3. Log Out\n"
     ]
    },
    {
     "name": "stdin",
     "output_type": "stream",
     "text": [
      "Enter your choice:  2\n",
      "Enter your Login User Name:  SubratS\n",
      "Enter your Login Password:  ssss\n"
     ]
    },
    {
     "name": "stdout",
     "output_type": "stream",
     "text": [
      "Login failed.\n",
      "\n",
      " Sign Up / Log In:\n",
      "1. Add User\n",
      "2. Login\n",
      "3. Log Out\n"
     ]
    },
    {
     "name": "stdin",
     "output_type": "stream",
     "text": [
      "Enter your choice:  2\n",
      "Enter your Login User Name:  SubratS\n",
      "Enter your Login Password:  Subr@123\n"
     ]
    },
    {
     "name": "stdout",
     "output_type": "stream",
     "text": [
      "Login successful.\n",
      "\n",
      " Task Manager Menu:\n",
      "1. Add a Task\n",
      "2. View Tasks\n",
      "3. Mark a Task as Completed\n",
      "4. Delete a Task\n",
      "5. Logout\n"
     ]
    },
    {
     "name": "stdin",
     "output_type": "stream",
     "text": [
      "Enter your choice:  1\n"
     ]
    },
    {
     "name": "stdout",
     "output_type": "stream",
     "text": [
      "Add Task\n"
     ]
    },
    {
     "name": "stdin",
     "output_type": "stream",
     "text": [
      "Enter Task Details:  Vendor Visit\n"
     ]
    },
    {
     "name": "stdout",
     "output_type": "stream",
     "text": [
      "Task Details Added Successfully.\n",
      "\n",
      " Task Manager Menu:\n",
      "1. Add a Task\n",
      "2. View Tasks\n",
      "3. Mark a Task as Completed\n",
      "4. Delete a Task\n",
      "5. Logout\n"
     ]
    },
    {
     "name": "stdin",
     "output_type": "stream",
     "text": [
      "Enter your choice:  1\n"
     ]
    },
    {
     "name": "stdout",
     "output_type": "stream",
     "text": [
      "Add Task\n"
     ]
    },
    {
     "name": "stdin",
     "output_type": "stream",
     "text": [
      "Enter Task Details:  two meetings to attand\n"
     ]
    },
    {
     "name": "stdout",
     "output_type": "stream",
     "text": [
      "Task Details Added Successfully.\n",
      "\n",
      " Task Manager Menu:\n",
      "1. Add a Task\n",
      "2. View Tasks\n",
      "3. Mark a Task as Completed\n",
      "4. Delete a Task\n",
      "5. Logout\n"
     ]
    },
    {
     "name": "stdin",
     "output_type": "stream",
     "text": [
      "Enter your choice:  2\n"
     ]
    },
    {
     "name": "stdout",
     "output_type": "stream",
     "text": [
      "View Tasks\n",
      "Tasks:  70666 --- Vendor Visit --- Pending\n",
      "Tasks:  25974 --- two meetings to attand --- Pending\n",
      "Task Details Printed.\n",
      "\n",
      " Task Manager Menu:\n",
      "1. Add a Task\n",
      "2. View Tasks\n",
      "3. Mark a Task as Completed\n",
      "4. Delete a Task\n",
      "5. Logout\n"
     ]
    },
    {
     "name": "stdin",
     "output_type": "stream",
     "text": [
      "Enter your choice:  3\n"
     ]
    },
    {
     "name": "stdout",
     "output_type": "stream",
     "text": [
      "Tasks Need to be Completed\n"
     ]
    },
    {
     "name": "stdin",
     "output_type": "stream",
     "text": [
      "Enter Task ID to mark it Complete:  70666\n"
     ]
    },
    {
     "name": "stdout",
     "output_type": "stream",
     "text": [
      "Task ID Completed.\n",
      "\n",
      " Task Manager Menu:\n",
      "1. Add a Task\n",
      "2. View Tasks\n",
      "3. Mark a Task as Completed\n",
      "4. Delete a Task\n",
      "5. Logout\n"
     ]
    },
    {
     "name": "stdin",
     "output_type": "stream",
     "text": [
      "Enter your choice:  3\n"
     ]
    },
    {
     "name": "stdout",
     "output_type": "stream",
     "text": [
      "Tasks Need to be Completed\n"
     ]
    },
    {
     "name": "stdin",
     "output_type": "stream",
     "text": [
      "Enter Task ID to mark it Complete:  70666\n"
     ]
    },
    {
     "name": "stdout",
     "output_type": "stream",
     "text": [
      "Task ID Completed.\n",
      "\n",
      " Task Manager Menu:\n",
      "1. Add a Task\n",
      "2. View Tasks\n",
      "3. Mark a Task as Completed\n",
      "4. Delete a Task\n",
      "5. Logout\n"
     ]
    },
    {
     "name": "stdin",
     "output_type": "stream",
     "text": [
      "Enter your choice:  25974\n"
     ]
    },
    {
     "name": "stdout",
     "output_type": "stream",
     "text": [
      "Invalid choice, please try again.\n",
      "\n",
      " Task Manager Menu:\n",
      "1. Add a Task\n",
      "2. View Tasks\n",
      "3. Mark a Task as Completed\n",
      "4. Delete a Task\n",
      "5. Logout\n"
     ]
    },
    {
     "name": "stdin",
     "output_type": "stream",
     "text": [
      "Enter your choice:  3\n"
     ]
    },
    {
     "name": "stdout",
     "output_type": "stream",
     "text": [
      "Tasks Need to be Completed\n"
     ]
    },
    {
     "name": "stdin",
     "output_type": "stream",
     "text": [
      "Enter Task ID to mark it Complete:  25974\n"
     ]
    },
    {
     "name": "stdout",
     "output_type": "stream",
     "text": [
      "Task ID Comparision:  25974 ----- 25974 ----- Completed\n",
      "Task ID Completed.\n",
      "\n",
      " Task Manager Menu:\n",
      "1. Add a Task\n",
      "2. View Tasks\n",
      "3. Mark a Task as Completed\n",
      "4. Delete a Task\n",
      "5. Logout\n"
     ]
    },
    {
     "name": "stdin",
     "output_type": "stream",
     "text": [
      "Enter your choice:  4\n"
     ]
    },
    {
     "name": "stdout",
     "output_type": "stream",
     "text": [
      "Task Delete\n"
     ]
    },
    {
     "name": "stdin",
     "output_type": "stream",
     "text": [
      "Enter Task ID to Delete:  25974\n"
     ]
    },
    {
     "name": "stdout",
     "output_type": "stream",
     "text": [
      "Task ID Comparision:  25974 ----- 25974 ----- Deleted\n",
      "Task ID Deleted.\n",
      "\n",
      " Task Manager Menu:\n",
      "1. Add a Task\n",
      "2. View Tasks\n",
      "3. Mark a Task as Completed\n",
      "4. Delete a Task\n",
      "5. Logout\n"
     ]
    },
    {
     "name": "stdin",
     "output_type": "stream",
     "text": [
      "Enter your choice:  5\n"
     ]
    },
    {
     "name": "stdout",
     "output_type": "stream",
     "text": [
      "Logging Out...\n",
      "\n",
      " Sign Up / Log In:\n",
      "1. Add User\n",
      "2. Login\n",
      "3. Log Out\n"
     ]
    },
    {
     "name": "stdin",
     "output_type": "stream",
     "text": [
      "Enter your choice:  5\n"
     ]
    },
    {
     "name": "stdout",
     "output_type": "stream",
     "text": [
      "Invalid choice, please try again.\n",
      "\n",
      " Sign Up / Log In:\n",
      "1. Add User\n",
      "2. Login\n",
      "3. Log Out\n"
     ]
    },
    {
     "name": "stdin",
     "output_type": "stream",
     "text": [
      "Enter your choice:  3\n"
     ]
    },
    {
     "name": "stdout",
     "output_type": "stream",
     "text": [
      "Logging Out...\n"
     ]
    }
   ],
   "source": [
    "## import hashlib\n",
    "import random\n",
    "\n",
    "# Prompt/Ask the user to enter a username and password \n",
    "# save to users.txt file and store password in encrypted format\n",
    "def register_user():\n",
    "    filename = \"users.txt\"\n",
    "    username = input(\"Enter your User Name: \")\n",
    "    password = input(\"Enter your Password: \")\n",
    "    hashed_password = hashlib.sha256(password.encode()).hexdigest()\n",
    "    with open(filename, \"a\") as f:\n",
    "        f.write(f\"{username},{hashed_password}\\n\")\n",
    "    print(\"User registered successfully.\")\n",
    "\n",
    "# Same user can only login and validate the credentials\n",
    "def login_user():\n",
    "    filename=\"users.txt\"\n",
    "    username = input(\"Enter your Login User Name: \")\n",
    "    password = input(\"Enter your Login Password: \")\n",
    "\n",
    "    hashed_password = hashlib.sha256(password.encode()).hexdigest()\n",
    "    with open(filename, \"r\") as f:\n",
    "        for line in f:\n",
    "            stored_username, stored_hashed_password = line.strip().split(\",\")\n",
    "            if username == stored_username and hashed_password == stored_hashed_password:\n",
    "                print(\"Login successful.\")\n",
    "                task_mngr_menu()\n",
    "                return True\n",
    "        print(\"Login failed.\")\n",
    "        return False\n",
    "\n",
    "# function that prompts the user for a task description\n",
    "# Task Id is random 5 digit no and save in task_details.txt file\n",
    "def add_task():\n",
    "    print(\"Add Task\")\n",
    "    taskdetails = input(\"Enter Task Details: \")\n",
    "    taskid = random_integer = random.randint(10000, 99999)\n",
    "    filename=\"task_details.txt\"\n",
    "    with open(filename, \"a\") as f:\n",
    "        f.write(f\"{taskid},{taskdetails},{\"Pending\"}\\n\")\n",
    "    print(\"Task Details Added Successfully.\")\n",
    "\n",
    "# view all the tasks stored in the task_details.txt file\n",
    "def view_tasks():\n",
    "    print(\"View Tasks\")\n",
    "    filename=\"task_details.txt\"\n",
    "    with open(filename, \"r\") as f:\n",
    "        for line in f:\n",
    "            stored_taskid, stored_taskdetails, status = line.strip().split(\",\")\n",
    "            print(\"Tasks: \", stored_taskid , \"---\", stored_taskdetails, \"---\", status)\n",
    "    print(\"Task Details Printed.\")\n",
    "\n",
    "# Update with task completed and store in the task_details.txt file as completed\n",
    "def mark_complete():\n",
    "    print(\"Tasks Need to be Completed\")\n",
    "    filename=\"task_details.txt\"\n",
    "    taskidforcomplete = input(\"Enter Task ID to mark it Complete: \")\n",
    "    with open(filename, \"r\") as f:\n",
    "        for line in f:\n",
    "            stored_taskid, stored_taskdetails,status = line.strip().split(\",\")\n",
    "    with open(filename, \"a\") as f1:\n",
    "            if stored_taskid == taskidforcomplete :\n",
    "                f1.write(f\"{stored_taskid},{stored_taskdetails},{\"Completed\"}\\n\")\n",
    "                print(\"Task ID Comparision: \", stored_taskid , \"-----\", taskidforcomplete, \"-----\", \"Completed\")                            \n",
    "    print(\"Task ID Completed.\")\n",
    "\n",
    "# Update with task deleted comment and store in the task_details.txt file as deleted\n",
    "def delete_task():\n",
    "    print(\"Task Delete\")\n",
    "    filename=\"task_details.txt\"\n",
    "    taskidforcomplete = input(\"Enter Task ID to Delete: \")\n",
    "    with open(filename, \"r\") as f:\n",
    "        for line in f:\n",
    "            stored_taskid, stored_taskdetails,status = line.strip().split(\",\")\n",
    "    with open(filename, \"a\") as f1:\n",
    "            if stored_taskid == taskidforcomplete :\n",
    "                f1.write(f\"{stored_taskid},{stored_taskdetails},{\"Deleted\"}\\n\")\n",
    "                print(\"Task ID Comparision: \", stored_taskid , \"-----\", taskidforcomplete, \"-----\", \"Deleted\")                            \n",
    "    print(\"Task ID Deleted.\")  \n",
    "    \n",
    "# this is the Task Manager menu\n",
    "def task_mngr_menu():\n",
    "    while True:\n",
    "        print(\"\\n Task Manager Menu:\")\n",
    "        print(\"1. Add a Task\")\n",
    "        print(\"2. View Tasks\")\n",
    "        print(\"3. Mark a Task as Completed\")\n",
    "        print(\"4. Delete a Task\")\n",
    "        print(\"5. Logout\")\n",
    "\n",
    "        choice = input(\"Enter your choice: \")\n",
    "\n",
    "        if choice == '1':\n",
    "            add_task()\n",
    "        elif choice == '2':\n",
    "            view_tasks()\n",
    "        elif choice == '3':\n",
    "            mark_complete()\n",
    "        elif choice == '4':\n",
    "            delete_task()\n",
    "        elif choice == '5':\n",
    "            print(\"Logging Out...\")            \n",
    "            break\n",
    "        else:\n",
    "            print(\"Invalid choice, please try again.\")\n",
    "\n",
    "# Menu as required for Add User and then Login to use the Task Manager menu.\n",
    "def main():\n",
    "    while True:\n",
    "        print(\"\\n Sign Up / Log In:\")\n",
    "        print(\"1. Add User\")\n",
    "        print(\"2. Login\")\n",
    "        print(\"3. Log Out\")\n",
    "        choice = input(\"Enter your choice: \")\n",
    "        if choice == '1':\n",
    "            register_user()\n",
    "        elif choice == '2':\n",
    "            login_user()\n",
    "        elif choice == '3':\n",
    "            print(\"Logging Out...\")            \n",
    "            break\n",
    "        else:\n",
    "            print(\"Invalid choice, please try again.\")\n",
    "\n",
    "if __name__ == \"__main__\":\n",
    "    main()"
   ]
  },
  {
   "cell_type": "code",
   "execution_count": null,
   "id": "b18071fb-9d74-4696-9e87-7e169db797e1",
   "metadata": {},
   "outputs": [],
   "source": []
  },
  {
   "cell_type": "raw",
   "id": "86d01bd2-91ba-481d-b358-afdf18e1f182",
   "metadata": {},
   "source": []
  },
  {
   "cell_type": "code",
   "execution_count": null,
   "id": "59e987a3-91cf-4de7-a867-2b510231e16c",
   "metadata": {},
   "outputs": [],
   "source": []
  }
 ],
 "metadata": {
  "kernelspec": {
   "display_name": "Python [conda env:base] *",
   "language": "python",
   "name": "conda-base-py"
  },
  "language_info": {
   "codemirror_mode": {
    "name": "ipython",
    "version": 3
   },
   "file_extension": ".py",
   "mimetype": "text/x-python",
   "name": "python",
   "nbconvert_exporter": "python",
   "pygments_lexer": "ipython3",
   "version": "3.12.7"
  }
 },
 "nbformat": 4,
 "nbformat_minor": 5
}
